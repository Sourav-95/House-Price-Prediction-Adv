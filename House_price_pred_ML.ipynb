{
 "cells": [
  {
   "cell_type": "markdown",
   "id": "863f7fc6",
   "metadata": {},
   "source": [
    "<a id='top'></a>\n",
    "<div class=\"list-group\" id=\"list-tab\" role=\"tablist\">\n",
    "<p style=\"padding:20px; background-color:#C70039;font-weight: bold;font-family:sans-serif;color:#FFF9ED;font-size:200%;text-align:center;border-radius:1px 15px;\">House Price Prediction : Advance Regression Analysis</p> \n",
    "\n",
    "    This is the Continuation of the Project House Price Prediction. In the previous Part we have completed half of the Life Cycle. This chapter is purely based on building Predictive Models. Earlier after collecting the Raw dataset we have performed multiple steps and made the data ready for Machine Learning.\n",
    "    1. Data Profiling - Basic Understanding of the dataset by overviewing the Description and Information\n",
    "        (i)   Mising Value Identification\n",
    "        (ii)  Check for Redundancy\n",
    "        (iii) Outlier Identification\n",
    "    2. Exploratory Data Analysis\n",
    "        (i)  Analysis of DataTime DataTypes\n",
    "        (ii) Analysis of Numerical Discrete Datatypes\n",
    "        (iii)Analysis of Numerical Continous DataTypes\n",
    "        (iv) Multivariate Analysis to understand hidden price Trends with the Features.\n",
    "        (v)  Analysis of Categorical Variables\n",
    "        (vi) Heat Map for MultiColinearity\n",
    "        (vi) Pearson Chi-Square Test to check the relationship of the Categorical Feature with the Target Feature\n",
    "    3. Data Preprocessing\n",
    "        (i)  Dropped the Unwanted Features which have more than 90% Null values and have High Imbalance in the dataset.\n",
    "        (ii) Imputation of the Null values\n",
    "    4. Feature Engineering\n",
    "        (i)   New Feature Creation from the existing to reduce complexity \n",
    "        (ii)  Create New Feature from continous variable to increase the relationship with the Target Variable\n",
    "        (iii) Skewness for Outlier Treatment\n",
    "        (iv)  Encoding - \n",
    "            (a) Ordinal Encoder - Which have ordered values in the columns\n",
    "            (b) One Hot Encoding - For other Categorical Features\n",
    "    \n",
    "    Now we are have the preprocessed data which is to be used for building Predictive models using various Machine Learning Algorithms.\n",
    "    \n",
    "* [1. IMPORT LIBRARIES & DATASET](#1)\n",
    "* [2. TRAIN TEST SPLIT](#2)\n",
    "* [3. PERFORMANCE METRICS](#3)\n",
    "* [4. MODEL BUILDING](#4) \n",
    "* [5. MODEL TUNING](#5)\n",
    "* [6. FEATURE ENGINEERING](#6)\n",
    "* [7. MACHINE LEARNING](#7)"
   ]
  },
  {
   "cell_type": "markdown",
   "id": "66c0e17a",
   "metadata": {},
   "source": [
    "<a id = \"1\">\n",
    "</a>\n",
    "<h1 id=\"Import Libraries\">\n",
    "    <span class=\"label label-default\" style=\"background-color:#00008b; border-radius:12px; font-weight: bold; font-family:Verdana; font-size:22px; color:#FBFAFC; \">1 | IMPORT LIBRARIES & DATASET\n",
    "    </span>\n",
    "</h1>"
   ]
  },
  {
   "cell_type": "markdown",
   "id": "a1433a2b",
   "metadata": {},
   "source": [
    "## 1.1 Import Libraries"
   ]
  },
  {
   "cell_type": "code",
   "execution_count": 3,
   "id": "b2985b3e",
   "metadata": {},
   "outputs": [],
   "source": [
    "import numpy as np\n",
    "import pandas as pd\n",
    "import matplotlib.pyplot as plt\n",
    "import seaborn as sns\n",
    "\n",
    "import math\n",
    "from sklearn.preprocessing import StandardScaler\n",
    "from sklearn.model_selection import train_test_split\n",
    "from sklearn.metrics import mean_absolute_error\n",
    "from sklearn.metrics import mean_squared_error\n",
    "from sklearn.metrics import r2_score\n",
    "\n",
    "from sklearn.linear_model import LinearRegression\n",
    "from sklearn.ensemble import RandomForestRegressor\n",
    "from sklearn.tree import DecisionTreeRegressor\n",
    "from sklearn.neighbors import KNeighborsRegressor\n",
    "from sklearn.ensemble import GradientBoostingRegressor\n",
    "from xgboost import XGBRegressor\n",
    "from sklearn.linear_model import Lasso\n",
    "from sklearn.linear_model import Ridge\n",
    "\n",
    "from sklearn.model_selection import cross_validate\n",
    "from sklearn.model_selection import cross_val_score\n",
    "from sklearn.metrics import make_scorer\n",
    "from sklearn.model_selection import GridSearchCV\n",
    "\n",
    "import warnings\n",
    "warnings.simplefilter(action='ignore', category=FutureWarning)"
   ]
  },
  {
   "cell_type": "markdown",
   "id": "c756b2b4",
   "metadata": {},
   "source": [
    "## 1.2 Import dataset"
   ]
  },
  {
   "cell_type": "code",
   "execution_count": 49,
   "id": "f8f2acdb",
   "metadata": {},
   "outputs": [],
   "source": [
    "#importing the processed dataset which is ready for Machine Learning\n",
    "train = pd.read_csv('training_dataset.csv', index_col=0)\n",
    "test = pd.read_csv('testing_dataset.csv', index_col=0)"
   ]
  },
  {
   "cell_type": "code",
   "execution_count": 50,
   "id": "40464b87",
   "metadata": {},
   "outputs": [],
   "source": [
    "data_train = train.copy()\n",
    "data_test = test.copy()"
   ]
  },
  {
   "cell_type": "markdown",
   "id": "97540d22",
   "metadata": {},
   "source": [
    "<a id = \"2\">\n",
    "</a>\n",
    "<h1 id=\"Import Libraries\">\n",
    "    <span class=\"label label-default\" style=\"background-color:#00008b; border-radius:12px; font-weight: bold; font-family:Verdana; font-size:22px; color:#FBFAFC; \">2 | TRAIN TEST SPLIT\n",
    "    </span>\n",
    "</h1>"
   ]
  },
  {
   "cell_type": "code",
   "execution_count": 52,
   "id": "094368c6",
   "metadata": {},
   "outputs": [],
   "source": [
    "X=train.drop('SalePrice', axis=1)\n",
    "Y=train['SalePrice']"
   ]
  },
  {
   "cell_type": "code",
   "execution_count": 53,
   "id": "0eebe0c0",
   "metadata": {},
   "outputs": [],
   "source": [
    "X_train, x_test, Y_train, y_test = train_test_split(X, Y, test_size=0.3, random_state=0)"
   ]
  },
  {
   "cell_type": "markdown",
   "id": "24068852",
   "metadata": {},
   "source": [
    "<a id = \"3\">\n",
    "</a>\n",
    "<h1 id=\"Import Libraries\">\n",
    "    <span class=\"label label-default\" style=\"background-color:#00008b; border-radius:12px; font-weight: bold; font-family:Verdana; font-size:22px; color:#FBFAFC; \">3 | PERFORMANCE METRICS\n",
    "    </span>\n",
    "</h1>"
   ]
  },
  {
   "cell_type": "markdown",
   "id": "4b284ba9",
   "metadata": {},
   "source": [
    "`Mean Absolute Error` - The mean absolute error is the modulus value of the difference between the actual value and the predicted value. The MAE gives us the average of the errors. Hence machine learning model with minimum MAE should be considered as a good model since its giving minimum error\n",
    "<br>\n",
    "$$ MAE =  \\frac{1}{n} \\sum_{n} |{{Y}_{i} - \\hat{Y}_{i}}|$$\n",
    "Where ${{Y}_i}$ - Actual Value and $\\hat {{Y}_i}$ - Predicted Value\n",
    "\n",
    "`Mean Square Error` - MSE represents the difference between the original and predicted values extracted by squared the average difference over the data set.\n",
    "$$ MSE = {\\frac{1}{n} \\sum_{n} ({{Y}_{i} - \\hat{Y}_{i}})^2}$$\n",
    "\n",
    "\n",
    "`Root Mean Square Error` - RMSE is the most commonly used measure for evaluating the quality of Prediction. It indicates the absolute fit of the model to the data and provide average model prediction error in the units of variable of interest.\n",
    "$$ RMSE = \\sqrt{\\frac{1}{n} \\sum_{n} ({{Y}_{i} - \\hat{Y}_{i}})^2}$$\n",
    "\n",
    "`Co-Efficient of determination` - This is also known as ${R}^{2}$ ranges between 0 and 1 that measures how well a statistical model predicts an outcome.\n",
    "<br> **${R}^{2}$ = 0 :**                  The model doesnot predict well\n",
    "<br> **${R}^{2}$ between 0 and 1 :**      The model partialy predict well. The assumptions are not well balanced\n",
    "<br> **${R}^{2}$ = 1**                    The model perfectly predicts the outcome.    "
   ]
  },
  {
   "cell_type": "markdown",
   "id": "2d1afc01",
   "metadata": {},
   "source": [
    "<a id = \"4\">\n",
    "</a>\n",
    "<h1 id=\"Import Libraries\">\n",
    "    <span class=\"label label-default\" style=\"background-color:#00008b; border-radius:12px; font-weight: bold; font-family:Verdana; font-size:22px; color:#FBFAFC; \">4 | MODEL BUILDING\n",
    "    </span>\n",
    "</h1>"
   ]
  },
  {
   "cell_type": "code",
   "execution_count": 54,
   "id": "3a0e8b21",
   "metadata": {},
   "outputs": [],
   "source": [
    "# list to store the performance metrics\n",
    "train_mae=[]\n",
    "test_mae=[]\n",
    "train_mse=[]\n",
    "test_mse=[]\n",
    "train_rmse=[]\n",
    "test_rmse=[]\n",
    "train_r2=[]\n",
    "test_r2=[]"
   ]
  },
  {
   "cell_type": "code",
   "execution_count": 55,
   "id": "545fe8af",
   "metadata": {},
   "outputs": [],
   "source": [
    "models = [LinearRegression(), \n",
    "          DecisionTreeRegressor(), \n",
    "          RandomForestRegressor(), \n",
    "          KNeighborsRegressor(), \n",
    "          GradientBoostingRegressor(),\n",
    "          XGBRegressor(booster='gbtree', learning_rate=0.1, objective='reg:squarederror', random_state=0),\n",
    "          Lasso(),\n",
    "          Ridge(alpha=1.0)]\n",
    "model_name = ['Linear', 'DecisionTree', 'RandomForest', 'KNN', 'GradientBoost', 'XGBoost', \n",
    "              'Lasso', 'Ridge']"
   ]
  },
  {
   "cell_type": "code",
   "execution_count": 56,
   "id": "d4616926",
   "metadata": {},
   "outputs": [],
   "source": [
    "for model in models:\n",
    "    model.fit(X_train, Y_train)\n",
    "    y_train_pred = model.predict(X_train)\n",
    "    y_test_pred = model.predict(x_test)\n",
    "    \n",
    "    train_mae.append(round(mean_absolute_error(Y_train, y_train_pred),2))\n",
    "    test_mae.append(round(mean_absolute_error(y_test, y_test_pred),2))\n",
    "    \n",
    "    train_mse.append(round(mean_squared_error(Y_train, y_train_pred),2))\n",
    "    test_mse.append(round(mean_squared_error(y_test, y_test_pred),2))\n",
    "    \n",
    "    train_rmse.append(round(math.sqrt(mean_squared_error(Y_train, y_train_pred)),2))\n",
    "    test_rmse.append(round(math.sqrt(mean_squared_error(y_test, y_test_pred)),2))\n",
    "    \n",
    "    train_r2.append(r2_score(Y_train, y_train_pred))\n",
    "    test_r2.append(r2_score(y_test, y_test_pred))"
   ]
  },
  {
   "cell_type": "code",
   "execution_count": 57,
   "id": "5e904c11",
   "metadata": {},
   "outputs": [],
   "source": [
    "#Dataframe to compare the R_Square value of different models\n",
    "model_df = pd.DataFrame({'Model':model_name, 'Train_MAE':train_mae,'Test_MAE':test_mae,\n",
    "                         'Train_MSE':train_mse,'Test_MSE':test_mse, \n",
    "                         'Train_RMSE':train_rmse,'Test_RMSE':test_rmse,\n",
    "                         'Train_R2Sq':train_r2, 'Test_R2Sq':test_r2}, \n",
    "                        columns=['Model', 'Train_MAE','Test_MAE', \n",
    "                                 'Train_MSE','Test_MSE','Train_RMSE','Test_RMSE','Train_R2Sq', 'Test_R2Sq'])\n"
   ]
  },
  {
   "cell_type": "code",
   "execution_count": 58,
   "id": "8c1b8837",
   "metadata": {},
   "outputs": [
    {
     "data": {
      "text/html": [
       "<div>\n",
       "<style scoped>\n",
       "    .dataframe tbody tr th:only-of-type {\n",
       "        vertical-align: middle;\n",
       "    }\n",
       "\n",
       "    .dataframe tbody tr th {\n",
       "        vertical-align: top;\n",
       "    }\n",
       "\n",
       "    .dataframe thead th {\n",
       "        text-align: right;\n",
       "    }\n",
       "</style>\n",
       "<table border=\"1\" class=\"dataframe\">\n",
       "  <thead>\n",
       "    <tr style=\"text-align: right;\">\n",
       "      <th></th>\n",
       "      <th>Model</th>\n",
       "      <th>Train_MAE</th>\n",
       "      <th>Test_MAE</th>\n",
       "      <th>Train_MSE</th>\n",
       "      <th>Test_MSE</th>\n",
       "      <th>Train_RMSE</th>\n",
       "      <th>Test_RMSE</th>\n",
       "      <th>Train_R2Sq</th>\n",
       "      <th>Test_R2Sq</th>\n",
       "    </tr>\n",
       "  </thead>\n",
       "  <tbody>\n",
       "    <tr>\n",
       "      <th>0</th>\n",
       "      <td>Linear</td>\n",
       "      <td>17124.98</td>\n",
       "      <td>22067.06</td>\n",
       "      <td>7.302975e+08</td>\n",
       "      <td>1.425553e+09</td>\n",
       "      <td>27024.02</td>\n",
       "      <td>37756.50</td>\n",
       "      <td>0.880274</td>\n",
       "      <td>0.790020</td>\n",
       "    </tr>\n",
       "    <tr>\n",
       "      <th>1</th>\n",
       "      <td>DecisionTree</td>\n",
       "      <td>7.34</td>\n",
       "      <td>27596.37</td>\n",
       "      <td>2.751957e+04</td>\n",
       "      <td>2.509702e+09</td>\n",
       "      <td>165.89</td>\n",
       "      <td>50096.92</td>\n",
       "      <td>0.999995</td>\n",
       "      <td>0.630328</td>\n",
       "    </tr>\n",
       "    <tr>\n",
       "      <th>2</th>\n",
       "      <td>RandomForest</td>\n",
       "      <td>6645.69</td>\n",
       "      <td>17358.83</td>\n",
       "      <td>1.311657e+08</td>\n",
       "      <td>9.212235e+08</td>\n",
       "      <td>11452.76</td>\n",
       "      <td>30351.66</td>\n",
       "      <td>0.978497</td>\n",
       "      <td>0.864306</td>\n",
       "    </tr>\n",
       "    <tr>\n",
       "      <th>3</th>\n",
       "      <td>KNN</td>\n",
       "      <td>17274.87</td>\n",
       "      <td>21201.39</td>\n",
       "      <td>7.738383e+08</td>\n",
       "      <td>1.340737e+09</td>\n",
       "      <td>27817.95</td>\n",
       "      <td>36616.07</td>\n",
       "      <td>0.873136</td>\n",
       "      <td>0.802513</td>\n",
       "    </tr>\n",
       "    <tr>\n",
       "      <th>4</th>\n",
       "      <td>GradientBoost</td>\n",
       "      <td>10573.08</td>\n",
       "      <td>16331.93</td>\n",
       "      <td>2.007954e+08</td>\n",
       "      <td>6.869907e+08</td>\n",
       "      <td>14170.23</td>\n",
       "      <td>26210.51</td>\n",
       "      <td>0.967081</td>\n",
       "      <td>0.898808</td>\n",
       "    </tr>\n",
       "    <tr>\n",
       "      <th>5</th>\n",
       "      <td>XGBoost</td>\n",
       "      <td>4082.50</td>\n",
       "      <td>16703.26</td>\n",
       "      <td>3.087600e+07</td>\n",
       "      <td>7.650254e+08</td>\n",
       "      <td>5556.62</td>\n",
       "      <td>27659.09</td>\n",
       "      <td>0.994938</td>\n",
       "      <td>0.887314</td>\n",
       "    </tr>\n",
       "    <tr>\n",
       "      <th>6</th>\n",
       "      <td>Lasso</td>\n",
       "      <td>17130.62</td>\n",
       "      <td>22041.95</td>\n",
       "      <td>7.303329e+08</td>\n",
       "      <td>1.422270e+09</td>\n",
       "      <td>27024.67</td>\n",
       "      <td>37713.00</td>\n",
       "      <td>0.880269</td>\n",
       "      <td>0.790503</td>\n",
       "    </tr>\n",
       "    <tr>\n",
       "      <th>7</th>\n",
       "      <td>Ridge</td>\n",
       "      <td>17211.02</td>\n",
       "      <td>21683.88</td>\n",
       "      <td>7.374466e+08</td>\n",
       "      <td>1.378638e+09</td>\n",
       "      <td>27155.97</td>\n",
       "      <td>37130.02</td>\n",
       "      <td>0.879102</td>\n",
       "      <td>0.796930</td>\n",
       "    </tr>\n",
       "  </tbody>\n",
       "</table>\n",
       "</div>"
      ],
      "text/plain": [
       "           Model  Train_MAE  Test_MAE     Train_MSE      Test_MSE  Train_RMSE  \\\n",
       "0         Linear   17124.98  22067.06  7.302975e+08  1.425553e+09    27024.02   \n",
       "1   DecisionTree       7.34  27596.37  2.751957e+04  2.509702e+09      165.89   \n",
       "2   RandomForest    6645.69  17358.83  1.311657e+08  9.212235e+08    11452.76   \n",
       "3            KNN   17274.87  21201.39  7.738383e+08  1.340737e+09    27817.95   \n",
       "4  GradientBoost   10573.08  16331.93  2.007954e+08  6.869907e+08    14170.23   \n",
       "5        XGBoost    4082.50  16703.26  3.087600e+07  7.650254e+08     5556.62   \n",
       "6          Lasso   17130.62  22041.95  7.303329e+08  1.422270e+09    27024.67   \n",
       "7          Ridge   17211.02  21683.88  7.374466e+08  1.378638e+09    27155.97   \n",
       "\n",
       "   Test_RMSE  Train_R2Sq  Test_R2Sq  \n",
       "0   37756.50    0.880274   0.790020  \n",
       "1   50096.92    0.999995   0.630328  \n",
       "2   30351.66    0.978497   0.864306  \n",
       "3   36616.07    0.873136   0.802513  \n",
       "4   26210.51    0.967081   0.898808  \n",
       "5   27659.09    0.994938   0.887314  \n",
       "6   37713.00    0.880269   0.790503  \n",
       "7   37130.02    0.879102   0.796930  "
      ]
     },
     "execution_count": 58,
     "metadata": {},
     "output_type": "execute_result"
    }
   ],
   "source": [
    "model_df"
   ]
  },
  {
   "cell_type": "markdown",
   "id": "a3b3292a",
   "metadata": {},
   "source": [
    "## Let's Check which model is performing best from Cross Validation."
   ]
  },
  {
   "cell_type": "code",
   "execution_count": 66,
   "id": "0c680af8",
   "metadata": {},
   "outputs": [],
   "source": [
    "scores = []    # list to store the scores\n",
    "mean_scores = []"
   ]
  },
  {
   "cell_type": "code",
   "execution_count": 67,
   "id": "19e9becf",
   "metadata": {},
   "outputs": [],
   "source": [
    "for model in models:\n",
    "    scores.append(cross_val_score(model, X_train, Y_train, cv=10, scoring='r2'))"
   ]
  },
  {
   "cell_type": "code",
   "execution_count": 68,
   "id": "6357c517",
   "metadata": {},
   "outputs": [
    {
     "data": {
      "text/html": [
       "<div>\n",
       "<style scoped>\n",
       "    .dataframe tbody tr th:only-of-type {\n",
       "        vertical-align: middle;\n",
       "    }\n",
       "\n",
       "    .dataframe tbody tr th {\n",
       "        vertical-align: top;\n",
       "    }\n",
       "\n",
       "    .dataframe thead th {\n",
       "        text-align: right;\n",
       "    }\n",
       "</style>\n",
       "<table border=\"1\" class=\"dataframe\">\n",
       "  <thead>\n",
       "    <tr style=\"text-align: right;\">\n",
       "      <th></th>\n",
       "      <th>Linear</th>\n",
       "      <th>DT</th>\n",
       "      <th>RF</th>\n",
       "      <th>KNN</th>\n",
       "      <th>GradientBoost</th>\n",
       "      <th>XGBoost</th>\n",
       "      <th>Lasso</th>\n",
       "      <th>Ridge</th>\n",
       "    </tr>\n",
       "  </thead>\n",
       "  <tbody>\n",
       "    <tr>\n",
       "      <th>1</th>\n",
       "      <td>-4.608423e+24</td>\n",
       "      <td>0.661327</td>\n",
       "      <td>0.873893</td>\n",
       "      <td>0.841575</td>\n",
       "      <td>0.905659</td>\n",
       "      <td>0.894437</td>\n",
       "      <td>0.842737</td>\n",
       "      <td>0.845352</td>\n",
       "    </tr>\n",
       "    <tr>\n",
       "      <th>2</th>\n",
       "      <td>-3.046163e+24</td>\n",
       "      <td>0.653271</td>\n",
       "      <td>0.729263</td>\n",
       "      <td>0.716817</td>\n",
       "      <td>0.577157</td>\n",
       "      <td>0.600983</td>\n",
       "      <td>0.721941</td>\n",
       "      <td>0.725962</td>\n",
       "    </tr>\n",
       "    <tr>\n",
       "      <th>3</th>\n",
       "      <td>8.116001e-01</td>\n",
       "      <td>0.576790</td>\n",
       "      <td>0.852357</td>\n",
       "      <td>0.834311</td>\n",
       "      <td>0.867123</td>\n",
       "      <td>0.855161</td>\n",
       "      <td>0.811678</td>\n",
       "      <td>0.814568</td>\n",
       "    </tr>\n",
       "    <tr>\n",
       "      <th>4</th>\n",
       "      <td>-4.125004e+24</td>\n",
       "      <td>0.751846</td>\n",
       "      <td>0.910258</td>\n",
       "      <td>0.854884</td>\n",
       "      <td>0.913054</td>\n",
       "      <td>0.903764</td>\n",
       "      <td>0.936370</td>\n",
       "      <td>0.936347</td>\n",
       "    </tr>\n",
       "    <tr>\n",
       "      <th>5</th>\n",
       "      <td>8.847378e-01</td>\n",
       "      <td>0.600248</td>\n",
       "      <td>0.876489</td>\n",
       "      <td>0.829165</td>\n",
       "      <td>0.873289</td>\n",
       "      <td>0.870122</td>\n",
       "      <td>0.885240</td>\n",
       "      <td>0.893676</td>\n",
       "    </tr>\n",
       "    <tr>\n",
       "      <th>6</th>\n",
       "      <td>7.900827e-01</td>\n",
       "      <td>0.690537</td>\n",
       "      <td>0.847000</td>\n",
       "      <td>0.792289</td>\n",
       "      <td>0.842746</td>\n",
       "      <td>0.857240</td>\n",
       "      <td>0.789786</td>\n",
       "      <td>0.786741</td>\n",
       "    </tr>\n",
       "    <tr>\n",
       "      <th>7</th>\n",
       "      <td>8.398652e-01</td>\n",
       "      <td>0.698994</td>\n",
       "      <td>0.856687</td>\n",
       "      <td>0.864583</td>\n",
       "      <td>0.881626</td>\n",
       "      <td>0.849563</td>\n",
       "      <td>0.840127</td>\n",
       "      <td>0.842064</td>\n",
       "    </tr>\n",
       "    <tr>\n",
       "      <th>8</th>\n",
       "      <td>8.469389e-01</td>\n",
       "      <td>0.666045</td>\n",
       "      <td>0.874222</td>\n",
       "      <td>0.750164</td>\n",
       "      <td>0.900339</td>\n",
       "      <td>0.898230</td>\n",
       "      <td>0.847576</td>\n",
       "      <td>0.852683</td>\n",
       "    </tr>\n",
       "    <tr>\n",
       "      <th>9</th>\n",
       "      <td>8.990051e-01</td>\n",
       "      <td>0.703072</td>\n",
       "      <td>0.893237</td>\n",
       "      <td>0.822147</td>\n",
       "      <td>0.923078</td>\n",
       "      <td>0.897392</td>\n",
       "      <td>0.899034</td>\n",
       "      <td>0.900615</td>\n",
       "    </tr>\n",
       "    <tr>\n",
       "      <th>10</th>\n",
       "      <td>8.327061e-01</td>\n",
       "      <td>0.790692</td>\n",
       "      <td>0.878638</td>\n",
       "      <td>0.797910</td>\n",
       "      <td>0.879194</td>\n",
       "      <td>0.893641</td>\n",
       "      <td>0.833161</td>\n",
       "      <td>0.837202</td>\n",
       "    </tr>\n",
       "    <tr>\n",
       "      <th>Mean</th>\n",
       "      <td>-1.177959e+24</td>\n",
       "      <td>0.679282</td>\n",
       "      <td>0.859204</td>\n",
       "      <td>0.810385</td>\n",
       "      <td>0.856326</td>\n",
       "      <td>0.852053</td>\n",
       "      <td>0.840765</td>\n",
       "      <td>0.843521</td>\n",
       "    </tr>\n",
       "  </tbody>\n",
       "</table>\n",
       "</div>"
      ],
      "text/plain": [
       "            Linear        DT        RF       KNN  GradientBoost   XGBoost  \\\n",
       "1    -4.608423e+24  0.661327  0.873893  0.841575       0.905659  0.894437   \n",
       "2    -3.046163e+24  0.653271  0.729263  0.716817       0.577157  0.600983   \n",
       "3     8.116001e-01  0.576790  0.852357  0.834311       0.867123  0.855161   \n",
       "4    -4.125004e+24  0.751846  0.910258  0.854884       0.913054  0.903764   \n",
       "5     8.847378e-01  0.600248  0.876489  0.829165       0.873289  0.870122   \n",
       "6     7.900827e-01  0.690537  0.847000  0.792289       0.842746  0.857240   \n",
       "7     8.398652e-01  0.698994  0.856687  0.864583       0.881626  0.849563   \n",
       "8     8.469389e-01  0.666045  0.874222  0.750164       0.900339  0.898230   \n",
       "9     8.990051e-01  0.703072  0.893237  0.822147       0.923078  0.897392   \n",
       "10    8.327061e-01  0.790692  0.878638  0.797910       0.879194  0.893641   \n",
       "Mean -1.177959e+24  0.679282  0.859204  0.810385       0.856326  0.852053   \n",
       "\n",
       "         Lasso     Ridge  \n",
       "1     0.842737  0.845352  \n",
       "2     0.721941  0.725962  \n",
       "3     0.811678  0.814568  \n",
       "4     0.936370  0.936347  \n",
       "5     0.885240  0.893676  \n",
       "6     0.789786  0.786741  \n",
       "7     0.840127  0.842064  \n",
       "8     0.847576  0.852683  \n",
       "9     0.899034  0.900615  \n",
       "10    0.833161  0.837202  \n",
       "Mean  0.840765  0.843521  "
      ]
     },
     "execution_count": 68,
     "metadata": {},
     "output_type": "execute_result"
    }
   ],
   "source": [
    "cv_df_model = pd.DataFrame({'Linear':scores[0], 'DT':scores[1], 'RF':scores[2],\n",
    "                   'KNN':scores[3],'GradientBoost':scores[4] , \n",
    "                   'XGBoost':scores[5],'Lasso':scores[6],'Ridge':scores[7]})\n",
    "cv_df_model.index = cv_df_model.index+1\n",
    "cv_df_model.loc['Mean']=cv_df_model.mean()\n",
    "cv_df_model"
   ]
  },
  {
   "cell_type": "code",
   "execution_count": 69,
   "id": "145a8c1d",
   "metadata": {},
   "outputs": [],
   "source": [
    "cv_df_model.drop(['Linear','DT'], axis=1, inplace=True)"
   ]
  },
  {
   "cell_type": "code",
   "execution_count": 70,
   "id": "16d37142",
   "metadata": {},
   "outputs": [
    {
     "data": {
      "text/html": [
       "<div>\n",
       "<style scoped>\n",
       "    .dataframe tbody tr th:only-of-type {\n",
       "        vertical-align: middle;\n",
       "    }\n",
       "\n",
       "    .dataframe tbody tr th {\n",
       "        vertical-align: top;\n",
       "    }\n",
       "\n",
       "    .dataframe thead th {\n",
       "        text-align: right;\n",
       "    }\n",
       "</style>\n",
       "<table border=\"1\" class=\"dataframe\">\n",
       "  <thead>\n",
       "    <tr style=\"text-align: right;\">\n",
       "      <th></th>\n",
       "      <th>RF</th>\n",
       "      <th>KNN</th>\n",
       "      <th>GradientBoost</th>\n",
       "      <th>XGBoost</th>\n",
       "      <th>Lasso</th>\n",
       "      <th>Ridge</th>\n",
       "    </tr>\n",
       "  </thead>\n",
       "  <tbody>\n",
       "    <tr>\n",
       "      <th>1</th>\n",
       "      <td>0.873893</td>\n",
       "      <td>0.841575</td>\n",
       "      <td>0.905659</td>\n",
       "      <td>0.894437</td>\n",
       "      <td>0.842737</td>\n",
       "      <td>0.845352</td>\n",
       "    </tr>\n",
       "    <tr>\n",
       "      <th>2</th>\n",
       "      <td>0.729263</td>\n",
       "      <td>0.716817</td>\n",
       "      <td>0.577157</td>\n",
       "      <td>0.600983</td>\n",
       "      <td>0.721941</td>\n",
       "      <td>0.725962</td>\n",
       "    </tr>\n",
       "    <tr>\n",
       "      <th>3</th>\n",
       "      <td>0.852357</td>\n",
       "      <td>0.834311</td>\n",
       "      <td>0.867123</td>\n",
       "      <td>0.855161</td>\n",
       "      <td>0.811678</td>\n",
       "      <td>0.814568</td>\n",
       "    </tr>\n",
       "    <tr>\n",
       "      <th>4</th>\n",
       "      <td>0.910258</td>\n",
       "      <td>0.854884</td>\n",
       "      <td>0.913054</td>\n",
       "      <td>0.903764</td>\n",
       "      <td>0.936370</td>\n",
       "      <td>0.936347</td>\n",
       "    </tr>\n",
       "    <tr>\n",
       "      <th>5</th>\n",
       "      <td>0.876489</td>\n",
       "      <td>0.829165</td>\n",
       "      <td>0.873289</td>\n",
       "      <td>0.870122</td>\n",
       "      <td>0.885240</td>\n",
       "      <td>0.893676</td>\n",
       "    </tr>\n",
       "    <tr>\n",
       "      <th>6</th>\n",
       "      <td>0.847000</td>\n",
       "      <td>0.792289</td>\n",
       "      <td>0.842746</td>\n",
       "      <td>0.857240</td>\n",
       "      <td>0.789786</td>\n",
       "      <td>0.786741</td>\n",
       "    </tr>\n",
       "    <tr>\n",
       "      <th>7</th>\n",
       "      <td>0.856687</td>\n",
       "      <td>0.864583</td>\n",
       "      <td>0.881626</td>\n",
       "      <td>0.849563</td>\n",
       "      <td>0.840127</td>\n",
       "      <td>0.842064</td>\n",
       "    </tr>\n",
       "    <tr>\n",
       "      <th>8</th>\n",
       "      <td>0.874222</td>\n",
       "      <td>0.750164</td>\n",
       "      <td>0.900339</td>\n",
       "      <td>0.898230</td>\n",
       "      <td>0.847576</td>\n",
       "      <td>0.852683</td>\n",
       "    </tr>\n",
       "    <tr>\n",
       "      <th>9</th>\n",
       "      <td>0.893237</td>\n",
       "      <td>0.822147</td>\n",
       "      <td>0.923078</td>\n",
       "      <td>0.897392</td>\n",
       "      <td>0.899034</td>\n",
       "      <td>0.900615</td>\n",
       "    </tr>\n",
       "    <tr>\n",
       "      <th>10</th>\n",
       "      <td>0.878638</td>\n",
       "      <td>0.797910</td>\n",
       "      <td>0.879194</td>\n",
       "      <td>0.893641</td>\n",
       "      <td>0.833161</td>\n",
       "      <td>0.837202</td>\n",
       "    </tr>\n",
       "    <tr>\n",
       "      <th>Mean</th>\n",
       "      <td>0.859204</td>\n",
       "      <td>0.810385</td>\n",
       "      <td>0.856326</td>\n",
       "      <td>0.852053</td>\n",
       "      <td>0.840765</td>\n",
       "      <td>0.843521</td>\n",
       "    </tr>\n",
       "  </tbody>\n",
       "</table>\n",
       "</div>"
      ],
      "text/plain": [
       "            RF       KNN  GradientBoost   XGBoost     Lasso     Ridge\n",
       "1     0.873893  0.841575       0.905659  0.894437  0.842737  0.845352\n",
       "2     0.729263  0.716817       0.577157  0.600983  0.721941  0.725962\n",
       "3     0.852357  0.834311       0.867123  0.855161  0.811678  0.814568\n",
       "4     0.910258  0.854884       0.913054  0.903764  0.936370  0.936347\n",
       "5     0.876489  0.829165       0.873289  0.870122  0.885240  0.893676\n",
       "6     0.847000  0.792289       0.842746  0.857240  0.789786  0.786741\n",
       "7     0.856687  0.864583       0.881626  0.849563  0.840127  0.842064\n",
       "8     0.874222  0.750164       0.900339  0.898230  0.847576  0.852683\n",
       "9     0.893237  0.822147       0.923078  0.897392  0.899034  0.900615\n",
       "10    0.878638  0.797910       0.879194  0.893641  0.833161  0.837202\n",
       "Mean  0.859204  0.810385       0.856326  0.852053  0.840765  0.843521"
      ]
     },
     "execution_count": 70,
     "metadata": {},
     "output_type": "execute_result"
    }
   ],
   "source": [
    "cv_df_model"
   ]
  },
  {
   "cell_type": "code",
   "execution_count": 71,
   "id": "f1ec08b1",
   "metadata": {},
   "outputs": [
    {
     "data": {
      "text/plain": [
       "Text(0.5, 0, 'K-th Fold')"
      ]
     },
     "execution_count": 71,
     "metadata": {},
     "output_type": "execute_result"
    },
    {
     "data": {
      "image/png": "[encoded data removed]",
      "text/plain": [
       "<Figure size 2000x600 with 2 Axes>"
      ]
     },
     "metadata": {},
     "output_type": "display_data"
    }
   ],
   "source": [
    "f,ax=plt.subplots(1,2, figsize=(20,6))\n",
    "\n",
    "sns.boxplot(data=cv_df_model.drop(cv_df_model.tail(1).index), width=0.3, ax=ax[0])\n",
    "ax[0].set_ylabel('R squared')\n",
    "\n",
    "sns.lineplot(data=cv_df_model.drop(cv_df_model.tail(1).index), ax=ax[1])\n",
    "\n",
    "ax[1].set_xticks(np.arange(1,11,1))\n",
    "ax[1].set_xlabel('K-th Fold')"
   ]
  },
  {
   "cell_type": "markdown",
   "id": "016d4534",
   "metadata": {},
   "source": [
    "**After Performing CrossValidation Technique, Most of the Model is Performing well except `DecisionTree`, `KNN`. So we can now try Hypertuning Parameter and GridSearchCV to increase the accuracy of the Prediction**"
   ]
  },
  {
   "cell_type": "markdown",
   "id": "da30461b",
   "metadata": {},
   "source": [
    "<a id = \"5\">\n",
    "</a>\n",
    "<h1 id=\"Import Libraries\">\n",
    "    <span class=\"label label-default\" style=\"background-color:#00008b; border-radius:12px; font-weight: bold; font-family:Verdana; font-size:22px; color:#FBFAFC; \">5 | MODEL TUNING\n",
    "    </span>\n",
    "</h1>"
   ]
  },
  {
   "cell_type": "code",
   "execution_count": 72,
   "id": "6fc935cb",
   "metadata": {},
   "outputs": [
    {
     "data": {
      "text/html": [
       "<style>#sk-container-id-5 {color: black;}#sk-container-id-5 pre{padding: 0;}#sk-container-id-5 div.sk-toggleable {background-color: white;}#sk-container-id-5 label.sk-toggleable__label {cursor: pointer;display: block;width: 100%;margin-bottom: 0;padding: 0.3em;box-sizing: border-box;text-align: center;}#sk-container-id-5 label.sk-toggleable__label-arrow:before {content: \"▸\";float: left;margin-right: 0.25em;color: #696969;}#sk-container-id-5 label.sk-toggleable__label-arrow:hover:before {color: black;}#sk-container-id-5 div.sk-estimator:hover label.sk-toggleable__label-arrow:before {color: black;}#sk-container-id-5 div.sk-toggleable__content {max-height: 0;max-width: 0;overflow: hidden;text-align: left;background-color: #f0f8ff;}#sk-container-id-5 div.sk-toggleable__content pre {margin: 0.2em;color: black;border-radius: 0.25em;background-color: #f0f8ff;}#sk-container-id-5 input.sk-toggleable__control:checked~div.sk-toggleable__content {max-height: 200px;max-width: 100%;overflow: auto;}#sk-container-id-5 input.sk-toggleable__control:checked~label.sk-toggleable__label-arrow:before {content: \"▾\";}#sk-container-id-5 div.sk-estimator input.sk-toggleable__control:checked~label.sk-toggleable__label {background-color: #d4ebff;}#sk-container-id-5 div.sk-label input.sk-toggleable__control:checked~label.sk-toggleable__label {background-color: #d4ebff;}#sk-container-id-5 input.sk-hidden--visually {border: 0;clip: rect(1px 1px 1px 1px);clip: rect(1px, 1px, 1px, 1px);height: 1px;margin: -1px;overflow: hidden;padding: 0;position: absolute;width: 1px;}#sk-container-id-5 div.sk-estimator {font-family: monospace;background-color: #f0f8ff;border: 1px dotted black;border-radius: 0.25em;box-sizing: border-box;margin-bottom: 0.5em;}#sk-container-id-5 div.sk-estimator:hover {background-color: #d4ebff;}#sk-container-id-5 div.sk-parallel-item::after {content: \"\";width: 100%;border-bottom: 1px solid gray;flex-grow: 1;}#sk-container-id-5 div.sk-label:hover label.sk-toggleable__label {background-color: #d4ebff;}#sk-container-id-5 div.sk-serial::before {content: \"\";position: absolute;border-left: 1px solid gray;box-sizing: border-box;top: 0;bottom: 0;left: 50%;z-index: 0;}#sk-container-id-5 div.sk-serial {display: flex;flex-direction: column;align-items: center;background-color: white;padding-right: 0.2em;padding-left: 0.2em;position: relative;}#sk-container-id-5 div.sk-item {position: relative;z-index: 1;}#sk-container-id-5 div.sk-parallel {display: flex;align-items: stretch;justify-content: center;background-color: white;position: relative;}#sk-container-id-5 div.sk-item::before, #sk-container-id-5 div.sk-parallel-item::before {content: \"\";position: absolute;border-left: 1px solid gray;box-sizing: border-box;top: 0;bottom: 0;left: 50%;z-index: -1;}#sk-container-id-5 div.sk-parallel-item {display: flex;flex-direction: column;z-index: 1;position: relative;background-color: white;}#sk-container-id-5 div.sk-parallel-item:first-child::after {align-self: flex-end;width: 50%;}#sk-container-id-5 div.sk-parallel-item:last-child::after {align-self: flex-start;width: 50%;}#sk-container-id-5 div.sk-parallel-item:only-child::after {width: 0;}#sk-container-id-5 div.sk-dashed-wrapped {border: 1px dashed gray;margin: 0 0.4em 0.5em 0.4em;box-sizing: border-box;padding-bottom: 0.4em;background-color: white;}#sk-container-id-5 div.sk-label label {font-family: monospace;font-weight: bold;display: inline-block;line-height: 1.2em;}#sk-container-id-5 div.sk-label-container {text-align: center;}#sk-container-id-5 div.sk-container {/* jupyter's `normalize.less` sets `[hidden] { display: none; }` but bootstrap.min.css set `[hidden] { display: none !important; }` so we also need the `!important` here to be able to override the default hidden behavior on the sphinx rendered scikit-learn.org. See: https://github.com/scikit-learn/scikit-learn/issues/21755 */display: inline-block !important;position: relative;}#sk-container-id-5 div.sk-text-repr-fallback {display: none;}</style><div id=\"sk-container-id-5\" class=\"sk-top-container\"><div class=\"sk-text-repr-fallback\"><pre>GradientBoostingRegressor()</pre><b>In a Jupyter environment, please rerun this cell to show the HTML representation or trust the notebook. <br />On GitHub, the HTML representation is unable to render, please try loading this page with nbviewer.org.</b></div><div class=\"sk-container\" hidden><div class=\"sk-item\"><div class=\"sk-estimator sk-toggleable\"><input class=\"sk-toggleable__control sk-hidden--visually\" id=\"sk-estimator-id-7\" type=\"checkbox\" checked><label for=\"sk-estimator-id-7\" class=\"sk-toggleable__label sk-toggleable__label-arrow\">GradientBoostingRegressor</label><div class=\"sk-toggleable__content\"><pre>GradientBoostingRegressor()</pre></div></div></div></div></div>"
      ],
      "text/plain": [
       "GradientBoostingRegressor()"
      ]
     },
     "execution_count": 72,
     "metadata": {},
     "output_type": "execute_result"
    }
   ],
   "source": [
    "models[4]"
   ]
  },
  {
   "cell_type": "code",
   "execution_count": 73,
   "id": "fa4bcfae",
   "metadata": {},
   "outputs": [],
   "source": [
    "# Importing the libraries for GridSearchCV & tuning Hyper Parameter"
   ]
  },
  {
   "cell_type": "code",
   "execution_count": 74,
   "id": "2700b9cc",
   "metadata": {},
   "outputs": [],
   "source": [
    "from sklearn.model_selection import KFold, GridSearchCV\n",
    "from sklearn.metrics import mean_squared_log_error"
   ]
  },
  {
   "cell_type": "markdown",
   "id": "30c4fe7d",
   "metadata": {},
   "source": [
    "### What are the parameters of the Model : XGBoostRegressor currently in use?"
   ]
  },
  {
   "cell_type": "code",
   "execution_count": 75,
   "id": "39867ce0",
   "metadata": {},
   "outputs": [],
   "source": [
    "gb = models[4]   # models[4] has the GradientBoostingRegressor()"
   ]
  },
  {
   "cell_type": "code",
   "execution_count": 76,
   "id": "8b822198",
   "metadata": {
    "scrolled": false
   },
   "outputs": [
    {
     "name": "stdout",
     "output_type": "stream",
     "text": [
      "Parameters currently in use:\n",
      "\n"
     ]
    },
    {
     "data": {
      "text/plain": [
       "{'alpha': 0.9,\n",
       " 'ccp_alpha': 0.0,\n",
       " 'criterion': 'friedman_mse',\n",
       " 'init': None,\n",
       " 'learning_rate': 0.1,\n",
       " 'loss': 'squared_error',\n",
       " 'max_depth': 3,\n",
       " 'max_features': None,\n",
       " 'max_leaf_nodes': None,\n",
       " 'min_impurity_decrease': 0.0,\n",
       " 'min_samples_leaf': 1,\n",
       " 'min_samples_split': 2,\n",
       " 'min_weight_fraction_leaf': 0.0,\n",
       " 'n_estimators': 100,\n",
       " 'n_iter_no_change': None,\n",
       " 'random_state': None,\n",
       " 'subsample': 1.0,\n",
       " 'tol': 0.0001,\n",
       " 'validation_fraction': 0.1,\n",
       " 'verbose': 0,\n",
       " 'warm_start': False}"
      ]
     },
     "execution_count": 76,
     "metadata": {},
     "output_type": "execute_result"
    }
   ],
   "source": [
    "print('Parameters currently in use:\\n')\n",
    "gb.get_params()"
   ]
  },
  {
   "cell_type": "code",
   "execution_count": 77,
   "id": "b5b601f4",
   "metadata": {},
   "outputs": [],
   "source": [
    "param = {'model__n_estimators': [50,100,150,200,250,300], \n",
    "         'model__max_depth': [2,3,4,5,6]}"
   ]
  },
  {
   "cell_type": "code",
   "execution_count": 78,
   "id": "3c6baf80",
   "metadata": {},
   "outputs": [],
   "source": [
    "gbm_param = {'loss':['squared_error', 'absolute_error'], \n",
    "             'learning_rate': [0.01, 0.1, 1.0], \n",
    "             'n_estimators':[50,100,150,200], \n",
    "             'max_depth':[2,3,4]}"
   ]
  },
  {
   "cell_type": "code",
   "execution_count": 79,
   "id": "e294822e",
   "metadata": {},
   "outputs": [],
   "source": [
    "search = GridSearchCV(gb, gbm_param, n_jobs=-1, scoring='neg_mean_absolute_error')"
   ]
  },
  {
   "cell_type": "code",
   "execution_count": 80,
   "id": "9feeb9ea",
   "metadata": {},
   "outputs": [
    {
     "data": {
      "text/html": [
       "<style>#sk-container-id-6 {color: black;}#sk-container-id-6 pre{padding: 0;}#sk-container-id-6 div.sk-toggleable {background-color: white;}#sk-container-id-6 label.sk-toggleable__label {cursor: pointer;display: block;width: 100%;margin-bottom: 0;padding: 0.3em;box-sizing: border-box;text-align: center;}#sk-container-id-6 label.sk-toggleable__label-arrow:before {content: \"▸\";float: left;margin-right: 0.25em;color: #696969;}#sk-container-id-6 label.sk-toggleable__label-arrow:hover:before {color: black;}#sk-container-id-6 div.sk-estimator:hover label.sk-toggleable__label-arrow:before {color: black;}#sk-container-id-6 div.sk-toggleable__content {max-height: 0;max-width: 0;overflow: hidden;text-align: left;background-color: #f0f8ff;}#sk-container-id-6 div.sk-toggleable__content pre {margin: 0.2em;color: black;border-radius: 0.25em;background-color: #f0f8ff;}#sk-container-id-6 input.sk-toggleable__control:checked~div.sk-toggleable__content {max-height: 200px;max-width: 100%;overflow: auto;}#sk-container-id-6 input.sk-toggleable__control:checked~label.sk-toggleable__label-arrow:before {content: \"▾\";}#sk-container-id-6 div.sk-estimator input.sk-toggleable__control:checked~label.sk-toggleable__label {background-color: #d4ebff;}#sk-container-id-6 div.sk-label input.sk-toggleable__control:checked~label.sk-toggleable__label {background-color: #d4ebff;}#sk-container-id-6 input.sk-hidden--visually {border: 0;clip: rect(1px 1px 1px 1px);clip: rect(1px, 1px, 1px, 1px);height: 1px;margin: -1px;overflow: hidden;padding: 0;position: absolute;width: 1px;}#sk-container-id-6 div.sk-estimator {font-family: monospace;background-color: #f0f8ff;border: 1px dotted black;border-radius: 0.25em;box-sizing: border-box;margin-bottom: 0.5em;}#sk-container-id-6 div.sk-estimator:hover {background-color: #d4ebff;}#sk-container-id-6 div.sk-parallel-item::after {content: \"\";width: 100%;border-bottom: 1px solid gray;flex-grow: 1;}#sk-container-id-6 div.sk-label:hover label.sk-toggleable__label {background-color: #d4ebff;}#sk-container-id-6 div.sk-serial::before {content: \"\";position: absolute;border-left: 1px solid gray;box-sizing: border-box;top: 0;bottom: 0;left: 50%;z-index: 0;}#sk-container-id-6 div.sk-serial {display: flex;flex-direction: column;align-items: center;background-color: white;padding-right: 0.2em;padding-left: 0.2em;position: relative;}#sk-container-id-6 div.sk-item {position: relative;z-index: 1;}#sk-container-id-6 div.sk-parallel {display: flex;align-items: stretch;justify-content: center;background-color: white;position: relative;}#sk-container-id-6 div.sk-item::before, #sk-container-id-6 div.sk-parallel-item::before {content: \"\";position: absolute;border-left: 1px solid gray;box-sizing: border-box;top: 0;bottom: 0;left: 50%;z-index: -1;}#sk-container-id-6 div.sk-parallel-item {display: flex;flex-direction: column;z-index: 1;position: relative;background-color: white;}#sk-container-id-6 div.sk-parallel-item:first-child::after {align-self: flex-end;width: 50%;}#sk-container-id-6 div.sk-parallel-item:last-child::after {align-self: flex-start;width: 50%;}#sk-container-id-6 div.sk-parallel-item:only-child::after {width: 0;}#sk-container-id-6 div.sk-dashed-wrapped {border: 1px dashed gray;margin: 0 0.4em 0.5em 0.4em;box-sizing: border-box;padding-bottom: 0.4em;background-color: white;}#sk-container-id-6 div.sk-label label {font-family: monospace;font-weight: bold;display: inline-block;line-height: 1.2em;}#sk-container-id-6 div.sk-label-container {text-align: center;}#sk-container-id-6 div.sk-container {/* jupyter's `normalize.less` sets `[hidden] { display: none; }` but bootstrap.min.css set `[hidden] { display: none !important; }` so we also need the `!important` here to be able to override the default hidden behavior on the sphinx rendered scikit-learn.org. See: https://github.com/scikit-learn/scikit-learn/issues/21755 */display: inline-block !important;position: relative;}#sk-container-id-6 div.sk-text-repr-fallback {display: none;}</style><div id=\"sk-container-id-6\" class=\"sk-top-container\"><div class=\"sk-text-repr-fallback\"><pre>GridSearchCV(estimator=GradientBoostingRegressor(), n_jobs=-1,\n",
       "             param_grid={&#x27;learning_rate&#x27;: [0.01, 0.1, 1.0],\n",
       "                         &#x27;loss&#x27;: [&#x27;squared_error&#x27;, &#x27;absolute_error&#x27;],\n",
       "                         &#x27;max_depth&#x27;: [2, 3, 4],\n",
       "                         &#x27;n_estimators&#x27;: [50, 100, 150, 200]},\n",
       "             scoring=&#x27;neg_mean_absolute_error&#x27;)</pre><b>In a Jupyter environment, please rerun this cell to show the HTML representation or trust the notebook. <br />On GitHub, the HTML representation is unable to render, please try loading this page with nbviewer.org.</b></div><div class=\"sk-container\" hidden><div class=\"sk-item sk-dashed-wrapped\"><div class=\"sk-label-container\"><div class=\"sk-label sk-toggleable\"><input class=\"sk-toggleable__control sk-hidden--visually\" id=\"sk-estimator-id-8\" type=\"checkbox\" ><label for=\"sk-estimator-id-8\" class=\"sk-toggleable__label sk-toggleable__label-arrow\">GridSearchCV</label><div class=\"sk-toggleable__content\"><pre>GridSearchCV(estimator=GradientBoostingRegressor(), n_jobs=-1,\n",
       "             param_grid={&#x27;learning_rate&#x27;: [0.01, 0.1, 1.0],\n",
       "                         &#x27;loss&#x27;: [&#x27;squared_error&#x27;, &#x27;absolute_error&#x27;],\n",
       "                         &#x27;max_depth&#x27;: [2, 3, 4],\n",
       "                         &#x27;n_estimators&#x27;: [50, 100, 150, 200]},\n",
       "             scoring=&#x27;neg_mean_absolute_error&#x27;)</pre></div></div></div><div class=\"sk-parallel\"><div class=\"sk-parallel-item\"><div class=\"sk-item\"><div class=\"sk-label-container\"><div class=\"sk-label sk-toggleable\"><input class=\"sk-toggleable__control sk-hidden--visually\" id=\"sk-estimator-id-9\" type=\"checkbox\" ><label for=\"sk-estimator-id-9\" class=\"sk-toggleable__label sk-toggleable__label-arrow\">estimator: GradientBoostingRegressor</label><div class=\"sk-toggleable__content\"><pre>GradientBoostingRegressor()</pre></div></div></div><div class=\"sk-serial\"><div class=\"sk-item\"><div class=\"sk-estimator sk-toggleable\"><input class=\"sk-toggleable__control sk-hidden--visually\" id=\"sk-estimator-id-10\" type=\"checkbox\" ><label for=\"sk-estimator-id-10\" class=\"sk-toggleable__label sk-toggleable__label-arrow\">GradientBoostingRegressor</label><div class=\"sk-toggleable__content\"><pre>GradientBoostingRegressor()</pre></div></div></div></div></div></div></div></div></div></div>"
      ],
      "text/plain": [
       "GridSearchCV(estimator=GradientBoostingRegressor(), n_jobs=-1,\n",
       "             param_grid={'learning_rate': [0.01, 0.1, 1.0],\n",
       "                         'loss': ['squared_error', 'absolute_error'],\n",
       "                         'max_depth': [2, 3, 4],\n",
       "                         'n_estimators': [50, 100, 150, 200]},\n",
       "             scoring='neg_mean_absolute_error')"
      ]
     },
     "execution_count": 80,
     "metadata": {},
     "output_type": "execute_result"
    }
   ],
   "source": [
    "search.fit(X_train, Y_train)"
   ]
  },
  {
   "cell_type": "code",
   "execution_count": 81,
   "id": "6a60f9f0",
   "metadata": {},
   "outputs": [
    {
     "data": {
      "text/plain": [
       "-16862.846577250395"
      ]
     },
     "execution_count": 81,
     "metadata": {},
     "output_type": "execute_result"
    }
   ],
   "source": [
    "search.best_score_"
   ]
  },
  {
   "cell_type": "code",
   "execution_count": 82,
   "id": "710e1c2d",
   "metadata": {},
   "outputs": [
    {
     "data": {
      "text/html": [
       "<style>#sk-container-id-7 {color: black;}#sk-container-id-7 pre{padding: 0;}#sk-container-id-7 div.sk-toggleable {background-color: white;}#sk-container-id-7 label.sk-toggleable__label {cursor: pointer;display: block;width: 100%;margin-bottom: 0;padding: 0.3em;box-sizing: border-box;text-align: center;}#sk-container-id-7 label.sk-toggleable__label-arrow:before {content: \"▸\";float: left;margin-right: 0.25em;color: #696969;}#sk-container-id-7 label.sk-toggleable__label-arrow:hover:before {color: black;}#sk-container-id-7 div.sk-estimator:hover label.sk-toggleable__label-arrow:before {color: black;}#sk-container-id-7 div.sk-toggleable__content {max-height: 0;max-width: 0;overflow: hidden;text-align: left;background-color: #f0f8ff;}#sk-container-id-7 div.sk-toggleable__content pre {margin: 0.2em;color: black;border-radius: 0.25em;background-color: #f0f8ff;}#sk-container-id-7 input.sk-toggleable__control:checked~div.sk-toggleable__content {max-height: 200px;max-width: 100%;overflow: auto;}#sk-container-id-7 input.sk-toggleable__control:checked~label.sk-toggleable__label-arrow:before {content: \"▾\";}#sk-container-id-7 div.sk-estimator input.sk-toggleable__control:checked~label.sk-toggleable__label {background-color: #d4ebff;}#sk-container-id-7 div.sk-label input.sk-toggleable__control:checked~label.sk-toggleable__label {background-color: #d4ebff;}#sk-container-id-7 input.sk-hidden--visually {border: 0;clip: rect(1px 1px 1px 1px);clip: rect(1px, 1px, 1px, 1px);height: 1px;margin: -1px;overflow: hidden;padding: 0;position: absolute;width: 1px;}#sk-container-id-7 div.sk-estimator {font-family: monospace;background-color: #f0f8ff;border: 1px dotted black;border-radius: 0.25em;box-sizing: border-box;margin-bottom: 0.5em;}#sk-container-id-7 div.sk-estimator:hover {background-color: #d4ebff;}#sk-container-id-7 div.sk-parallel-item::after {content: \"\";width: 100%;border-bottom: 1px solid gray;flex-grow: 1;}#sk-container-id-7 div.sk-label:hover label.sk-toggleable__label {background-color: #d4ebff;}#sk-container-id-7 div.sk-serial::before {content: \"\";position: absolute;border-left: 1px solid gray;box-sizing: border-box;top: 0;bottom: 0;left: 50%;z-index: 0;}#sk-container-id-7 div.sk-serial {display: flex;flex-direction: column;align-items: center;background-color: white;padding-right: 0.2em;padding-left: 0.2em;position: relative;}#sk-container-id-7 div.sk-item {position: relative;z-index: 1;}#sk-container-id-7 div.sk-parallel {display: flex;align-items: stretch;justify-content: center;background-color: white;position: relative;}#sk-container-id-7 div.sk-item::before, #sk-container-id-7 div.sk-parallel-item::before {content: \"\";position: absolute;border-left: 1px solid gray;box-sizing: border-box;top: 0;bottom: 0;left: 50%;z-index: -1;}#sk-container-id-7 div.sk-parallel-item {display: flex;flex-direction: column;z-index: 1;position: relative;background-color: white;}#sk-container-id-7 div.sk-parallel-item:first-child::after {align-self: flex-end;width: 50%;}#sk-container-id-7 div.sk-parallel-item:last-child::after {align-self: flex-start;width: 50%;}#sk-container-id-7 div.sk-parallel-item:only-child::after {width: 0;}#sk-container-id-7 div.sk-dashed-wrapped {border: 1px dashed gray;margin: 0 0.4em 0.5em 0.4em;box-sizing: border-box;padding-bottom: 0.4em;background-color: white;}#sk-container-id-7 div.sk-label label {font-family: monospace;font-weight: bold;display: inline-block;line-height: 1.2em;}#sk-container-id-7 div.sk-label-container {text-align: center;}#sk-container-id-7 div.sk-container {/* jupyter's `normalize.less` sets `[hidden] { display: none; }` but bootstrap.min.css set `[hidden] { display: none !important; }` so we also need the `!important` here to be able to override the default hidden behavior on the sphinx rendered scikit-learn.org. See: https://github.com/scikit-learn/scikit-learn/issues/21755 */display: inline-block !important;position: relative;}#sk-container-id-7 div.sk-text-repr-fallback {display: none;}</style><div id=\"sk-container-id-7\" class=\"sk-top-container\"><div class=\"sk-text-repr-fallback\"><pre>GradientBoostingRegressor(loss=&#x27;absolute_error&#x27;, max_depth=4, n_estimators=200)</pre><b>In a Jupyter environment, please rerun this cell to show the HTML representation or trust the notebook. <br />On GitHub, the HTML representation is unable to render, please try loading this page with nbviewer.org.</b></div><div class=\"sk-container\" hidden><div class=\"sk-item\"><div class=\"sk-estimator sk-toggleable\"><input class=\"sk-toggleable__control sk-hidden--visually\" id=\"sk-estimator-id-11\" type=\"checkbox\" checked><label for=\"sk-estimator-id-11\" class=\"sk-toggleable__label sk-toggleable__label-arrow\">GradientBoostingRegressor</label><div class=\"sk-toggleable__content\"><pre>GradientBoostingRegressor(loss=&#x27;absolute_error&#x27;, max_depth=4, n_estimators=200)</pre></div></div></div></div></div>"
      ],
      "text/plain": [
       "GradientBoostingRegressor(loss='absolute_error', max_depth=4, n_estimators=200)"
      ]
     },
     "execution_count": 82,
     "metadata": {},
     "output_type": "execute_result"
    }
   ],
   "source": [
    "search.best_estimator_"
   ]
  },
  {
   "cell_type": "code",
   "execution_count": 83,
   "id": "85263468",
   "metadata": {},
   "outputs": [],
   "source": [
    "predict = search.predict(data_test)"
   ]
  },
  {
   "cell_type": "code",
   "execution_count": 84,
   "id": "067197f8",
   "metadata": {},
   "outputs": [
    {
     "data": {
      "text/plain": [
       "array([121890.22257467, 163620.71485835, 176148.35712397, ...,\n",
       "       178834.37688838, 122080.59061536, 203228.1706736 ])"
      ]
     },
     "execution_count": 84,
     "metadata": {},
     "output_type": "execute_result"
    }
   ],
   "source": [
    "predict"
   ]
  },
  {
   "cell_type": "code",
   "execution_count": 86,
   "id": "780eec40",
   "metadata": {},
   "outputs": [],
   "source": [
    "sub = pd.DataFrame({\n",
    "    \"Id\": data_test.index,\n",
    "    'SalePrice': predict\n",
    "})"
   ]
  },
  {
   "cell_type": "code",
   "execution_count": 87,
   "id": "e1461f07",
   "metadata": {},
   "outputs": [
    {
     "data": {
      "text/html": [
       "<div>\n",
       "<style scoped>\n",
       "    .dataframe tbody tr th:only-of-type {\n",
       "        vertical-align: middle;\n",
       "    }\n",
       "\n",
       "    .dataframe tbody tr th {\n",
       "        vertical-align: top;\n",
       "    }\n",
       "\n",
       "    .dataframe thead th {\n",
       "        text-align: right;\n",
       "    }\n",
       "</style>\n",
       "<table border=\"1\" class=\"dataframe\">\n",
       "  <thead>\n",
       "    <tr style=\"text-align: right;\">\n",
       "      <th></th>\n",
       "      <th>Id</th>\n",
       "      <th>SalePrice</th>\n",
       "    </tr>\n",
       "  </thead>\n",
       "  <tbody>\n",
       "    <tr>\n",
       "      <th>0</th>\n",
       "      <td>1460</td>\n",
       "      <td>121890.222575</td>\n",
       "    </tr>\n",
       "    <tr>\n",
       "      <th>1</th>\n",
       "      <td>1461</td>\n",
       "      <td>163620.714858</td>\n",
       "    </tr>\n",
       "    <tr>\n",
       "      <th>2</th>\n",
       "      <td>1462</td>\n",
       "      <td>176148.357124</td>\n",
       "    </tr>\n",
       "    <tr>\n",
       "      <th>3</th>\n",
       "      <td>1463</td>\n",
       "      <td>190442.763209</td>\n",
       "    </tr>\n",
       "    <tr>\n",
       "      <th>4</th>\n",
       "      <td>1464</td>\n",
       "      <td>185667.326600</td>\n",
       "    </tr>\n",
       "    <tr>\n",
       "      <th>...</th>\n",
       "      <td>...</td>\n",
       "      <td>...</td>\n",
       "    </tr>\n",
       "    <tr>\n",
       "      <th>1454</th>\n",
       "      <td>2914</td>\n",
       "      <td>85198.188331</td>\n",
       "    </tr>\n",
       "    <tr>\n",
       "      <th>1455</th>\n",
       "      <td>2915</td>\n",
       "      <td>78225.530882</td>\n",
       "    </tr>\n",
       "    <tr>\n",
       "      <th>1456</th>\n",
       "      <td>2916</td>\n",
       "      <td>178834.376888</td>\n",
       "    </tr>\n",
       "    <tr>\n",
       "      <th>1457</th>\n",
       "      <td>2917</td>\n",
       "      <td>122080.590615</td>\n",
       "    </tr>\n",
       "    <tr>\n",
       "      <th>1458</th>\n",
       "      <td>2918</td>\n",
       "      <td>203228.170674</td>\n",
       "    </tr>\n",
       "  </tbody>\n",
       "</table>\n",
       "<p>1459 rows × 2 columns</p>\n",
       "</div>"
      ],
      "text/plain": [
       "        Id      SalePrice\n",
       "0     1460  121890.222575\n",
       "1     1461  163620.714858\n",
       "2     1462  176148.357124\n",
       "3     1463  190442.763209\n",
       "4     1464  185667.326600\n",
       "...    ...            ...\n",
       "1454  2914   85198.188331\n",
       "1455  2915   78225.530882\n",
       "1456  2916  178834.376888\n",
       "1457  2917  122080.590615\n",
       "1458  2918  203228.170674\n",
       "\n",
       "[1459 rows x 2 columns]"
      ]
     },
     "execution_count": 87,
     "metadata": {},
     "output_type": "execute_result"
    }
   ],
   "source": [
    "sub"
   ]
  },
  {
   "cell_type": "code",
   "execution_count": 88,
   "id": "461bebdc",
   "metadata": {},
   "outputs": [],
   "source": [
    "#submission file\n",
    "sub.to_csv('submission.csv', index=False)"
   ]
  }
 ],
 "metadata": {
  "kernelspec": {
   "display_name": "Python 3 (ipykernel)",
   "language": "python",
   "name": "python3"
  },
  "language_info": {
   "codemirror_mode": {
    "name": "ipython",
    "version": 3
   },
   "file_extension": ".py",
   "mimetype": "text/x-python",
   "name": "python",
   "nbconvert_exporter": "python",
   "pygments_lexer": "ipython3",
   "version": "3.11.4"
  }
 },
 "nbformat": 4,
 "nbformat_minor": 5
}
